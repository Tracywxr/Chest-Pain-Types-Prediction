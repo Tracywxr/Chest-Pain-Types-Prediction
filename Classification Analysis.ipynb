{
 "cells": [
  {
   "cell_type": "code",
   "execution_count": 90,
   "metadata": {},
   "outputs": [],
   "source": [
    "library(tidyverse)\n",
    "library(tidymodels)\n",
    "library(repr)\n",
    "library(RColorBrewer)\n",
    "# library(themis)"
   ]
  },
  {
   "cell_type": "code",
   "execution_count": 91,
   "metadata": {},
   "outputs": [
    {
     "name": "stderr",
     "output_type": "stream",
     "text": [
      "Parsed with column specification:\n",
      "cols(\n",
      "  X1 = \u001b[32mcol_double()\u001b[39m,\n",
      "  X2 = \u001b[32mcol_double()\u001b[39m,\n",
      "  X3 = \u001b[32mcol_double()\u001b[39m,\n",
      "  X4 = \u001b[32mcol_double()\u001b[39m,\n",
      "  X5 = \u001b[32mcol_double()\u001b[39m,\n",
      "  X6 = \u001b[32mcol_double()\u001b[39m,\n",
      "  X7 = \u001b[32mcol_double()\u001b[39m,\n",
      "  X8 = \u001b[32mcol_double()\u001b[39m,\n",
      "  X9 = \u001b[32mcol_double()\u001b[39m,\n",
      "  X10 = \u001b[32mcol_double()\u001b[39m,\n",
      "  X11 = \u001b[32mcol_double()\u001b[39m,\n",
      "  X12 = \u001b[31mcol_character()\u001b[39m,\n",
      "  X13 = \u001b[31mcol_character()\u001b[39m,\n",
      "  X14 = \u001b[32mcol_double()\u001b[39m\n",
      ")\n",
      "\n"
     ]
    },
    {
     "data": {
      "text/html": [
       "<table>\n",
       "<caption>A spec_tbl_df: 6 × 14</caption>\n",
       "<thead>\n",
       "\t<tr><th scope=col>X1</th><th scope=col>X2</th><th scope=col>X3</th><th scope=col>X4</th><th scope=col>X5</th><th scope=col>X6</th><th scope=col>X7</th><th scope=col>X8</th><th scope=col>X9</th><th scope=col>X10</th><th scope=col>X11</th><th scope=col>X12</th><th scope=col>X13</th><th scope=col>X14</th></tr>\n",
       "\t<tr><th scope=col>&lt;dbl&gt;</th><th scope=col>&lt;dbl&gt;</th><th scope=col>&lt;dbl&gt;</th><th scope=col>&lt;dbl&gt;</th><th scope=col>&lt;dbl&gt;</th><th scope=col>&lt;dbl&gt;</th><th scope=col>&lt;dbl&gt;</th><th scope=col>&lt;dbl&gt;</th><th scope=col>&lt;dbl&gt;</th><th scope=col>&lt;dbl&gt;</th><th scope=col>&lt;dbl&gt;</th><th scope=col>&lt;chr&gt;</th><th scope=col>&lt;chr&gt;</th><th scope=col>&lt;dbl&gt;</th></tr>\n",
       "</thead>\n",
       "<tbody>\n",
       "\t<tr><td>63</td><td>1</td><td>1</td><td>145</td><td>233</td><td>1</td><td>2</td><td>150</td><td>0</td><td>2.3</td><td>3</td><td>0.0</td><td>6.0</td><td>0</td></tr>\n",
       "\t<tr><td>67</td><td>1</td><td>4</td><td>160</td><td>286</td><td>0</td><td>2</td><td>108</td><td>1</td><td>1.5</td><td>2</td><td>3.0</td><td>3.0</td><td>2</td></tr>\n",
       "\t<tr><td>67</td><td>1</td><td>4</td><td>120</td><td>229</td><td>0</td><td>2</td><td>129</td><td>1</td><td>2.6</td><td>2</td><td>2.0</td><td>7.0</td><td>1</td></tr>\n",
       "\t<tr><td>37</td><td>1</td><td>3</td><td>130</td><td>250</td><td>0</td><td>0</td><td>187</td><td>0</td><td>3.5</td><td>3</td><td>0.0</td><td>3.0</td><td>0</td></tr>\n",
       "\t<tr><td>41</td><td>0</td><td>2</td><td>130</td><td>204</td><td>0</td><td>2</td><td>172</td><td>0</td><td>1.4</td><td>1</td><td>0.0</td><td>3.0</td><td>0</td></tr>\n",
       "\t<tr><td>56</td><td>1</td><td>2</td><td>120</td><td>236</td><td>0</td><td>0</td><td>178</td><td>0</td><td>0.8</td><td>1</td><td>0.0</td><td>3.0</td><td>0</td></tr>\n",
       "</tbody>\n",
       "</table>\n"
      ],
      "text/latex": [
       "A spec\\_tbl\\_df: 6 × 14\n",
       "\\begin{tabular}{llllllllllllll}\n",
       " X1 & X2 & X3 & X4 & X5 & X6 & X7 & X8 & X9 & X10 & X11 & X12 & X13 & X14\\\\\n",
       " <dbl> & <dbl> & <dbl> & <dbl> & <dbl> & <dbl> & <dbl> & <dbl> & <dbl> & <dbl> & <dbl> & <chr> & <chr> & <dbl>\\\\\n",
       "\\hline\n",
       "\t 63 & 1 & 1 & 145 & 233 & 1 & 2 & 150 & 0 & 2.3 & 3 & 0.0 & 6.0 & 0\\\\\n",
       "\t 67 & 1 & 4 & 160 & 286 & 0 & 2 & 108 & 1 & 1.5 & 2 & 3.0 & 3.0 & 2\\\\\n",
       "\t 67 & 1 & 4 & 120 & 229 & 0 & 2 & 129 & 1 & 2.6 & 2 & 2.0 & 7.0 & 1\\\\\n",
       "\t 37 & 1 & 3 & 130 & 250 & 0 & 0 & 187 & 0 & 3.5 & 3 & 0.0 & 3.0 & 0\\\\\n",
       "\t 41 & 0 & 2 & 130 & 204 & 0 & 2 & 172 & 0 & 1.4 & 1 & 0.0 & 3.0 & 0\\\\\n",
       "\t 56 & 1 & 2 & 120 & 236 & 0 & 0 & 178 & 0 & 0.8 & 1 & 0.0 & 3.0 & 0\\\\\n",
       "\\end{tabular}\n"
      ],
      "text/markdown": [
       "\n",
       "A spec_tbl_df: 6 × 14\n",
       "\n",
       "| X1 &lt;dbl&gt; | X2 &lt;dbl&gt; | X3 &lt;dbl&gt; | X4 &lt;dbl&gt; | X5 &lt;dbl&gt; | X6 &lt;dbl&gt; | X7 &lt;dbl&gt; | X8 &lt;dbl&gt; | X9 &lt;dbl&gt; | X10 &lt;dbl&gt; | X11 &lt;dbl&gt; | X12 &lt;chr&gt; | X13 &lt;chr&gt; | X14 &lt;dbl&gt; |\n",
       "|---|---|---|---|---|---|---|---|---|---|---|---|---|---|\n",
       "| 63 | 1 | 1 | 145 | 233 | 1 | 2 | 150 | 0 | 2.3 | 3 | 0.0 | 6.0 | 0 |\n",
       "| 67 | 1 | 4 | 160 | 286 | 0 | 2 | 108 | 1 | 1.5 | 2 | 3.0 | 3.0 | 2 |\n",
       "| 67 | 1 | 4 | 120 | 229 | 0 | 2 | 129 | 1 | 2.6 | 2 | 2.0 | 7.0 | 1 |\n",
       "| 37 | 1 | 3 | 130 | 250 | 0 | 0 | 187 | 0 | 3.5 | 3 | 0.0 | 3.0 | 0 |\n",
       "| 41 | 0 | 2 | 130 | 204 | 0 | 2 | 172 | 0 | 1.4 | 1 | 0.0 | 3.0 | 0 |\n",
       "| 56 | 1 | 2 | 120 | 236 | 0 | 0 | 178 | 0 | 0.8 | 1 | 0.0 | 3.0 | 0 |\n",
       "\n"
      ],
      "text/plain": [
       "  X1 X2 X3 X4  X5  X6 X7 X8  X9 X10 X11 X12 X13 X14\n",
       "1 63 1  1  145 233 1  2  150 0  2.3 3   0.0 6.0 0  \n",
       "2 67 1  4  160 286 0  2  108 1  1.5 2   3.0 3.0 2  \n",
       "3 67 1  4  120 229 0  2  129 1  2.6 2   2.0 7.0 1  \n",
       "4 37 1  3  130 250 0  0  187 0  3.5 3   0.0 3.0 0  \n",
       "5 41 0  2  130 204 0  2  172 0  1.4 1   0.0 3.0 0  \n",
       "6 56 1  2  120 236 0  0  178 0  0.8 1   0.0 3.0 0  "
      ]
     },
     "metadata": {},
     "output_type": "display_data"
    }
   ],
   "source": [
    "url <- \"https://archive.ics.uci.edu/ml/machine-learning-databases/heart-disease/processed.cleveland.data\"\n",
    "\n",
    "\n",
    "# Load our dataset\n",
    "chest_pain_data <- read_csv(url, col_name = FALSE)\n",
    "slice(chest_pain_data,1:6)\n",
    "\n",
    "set.seed(1000)"
   ]
  },
  {
   "cell_type": "code",
   "execution_count": 92,
   "metadata": {},
   "outputs": [
    {
     "data": {
      "text/html": [
       "<table>\n",
       "<caption>A tibble: 6 × 5</caption>\n",
       "<thead>\n",
       "\t<tr><th scope=col>age</th><th scope=col>chest_pain_type</th><th scope=col>trest_bps</th><th scope=col>cholesterol</th><th scope=col>max_heart_rate</th></tr>\n",
       "\t<tr><th scope=col>&lt;dbl&gt;</th><th scope=col>&lt;fct&gt;</th><th scope=col>&lt;dbl&gt;</th><th scope=col>&lt;dbl&gt;</th><th scope=col>&lt;dbl&gt;</th></tr>\n",
       "</thead>\n",
       "<tbody>\n",
       "\t<tr><td>63</td><td>1</td><td>145</td><td>233</td><td>150</td></tr>\n",
       "\t<tr><td>67</td><td>4</td><td>160</td><td>286</td><td>108</td></tr>\n",
       "\t<tr><td>67</td><td>4</td><td>120</td><td>229</td><td>129</td></tr>\n",
       "\t<tr><td>37</td><td>3</td><td>130</td><td>250</td><td>187</td></tr>\n",
       "\t<tr><td>41</td><td>2</td><td>130</td><td>204</td><td>172</td></tr>\n",
       "\t<tr><td>56</td><td>2</td><td>120</td><td>236</td><td>178</td></tr>\n",
       "</tbody>\n",
       "</table>\n"
      ],
      "text/latex": [
       "A tibble: 6 × 5\n",
       "\\begin{tabular}{lllll}\n",
       " age & chest\\_pain\\_type & trest\\_bps & cholesterol & max\\_heart\\_rate\\\\\n",
       " <dbl> & <fct> & <dbl> & <dbl> & <dbl>\\\\\n",
       "\\hline\n",
       "\t 63 & 1 & 145 & 233 & 150\\\\\n",
       "\t 67 & 4 & 160 & 286 & 108\\\\\n",
       "\t 67 & 4 & 120 & 229 & 129\\\\\n",
       "\t 37 & 3 & 130 & 250 & 187\\\\\n",
       "\t 41 & 2 & 130 & 204 & 172\\\\\n",
       "\t 56 & 2 & 120 & 236 & 178\\\\\n",
       "\\end{tabular}\n"
      ],
      "text/markdown": [
       "\n",
       "A tibble: 6 × 5\n",
       "\n",
       "| age &lt;dbl&gt; | chest_pain_type &lt;fct&gt; | trest_bps &lt;dbl&gt; | cholesterol &lt;dbl&gt; | max_heart_rate &lt;dbl&gt; |\n",
       "|---|---|---|---|---|\n",
       "| 63 | 1 | 145 | 233 | 150 |\n",
       "| 67 | 4 | 160 | 286 | 108 |\n",
       "| 67 | 4 | 120 | 229 | 129 |\n",
       "| 37 | 3 | 130 | 250 | 187 |\n",
       "| 41 | 2 | 130 | 204 | 172 |\n",
       "| 56 | 2 | 120 | 236 | 178 |\n",
       "\n"
      ],
      "text/plain": [
       "  age chest_pain_type trest_bps cholesterol max_heart_rate\n",
       "1 63  1               145       233         150           \n",
       "2 67  4               160       286         108           \n",
       "3 67  4               120       229         129           \n",
       "4 37  3               130       250         187           \n",
       "5 41  2               130       204         172           \n",
       "6 56  2               120       236         178           "
      ]
     },
     "metadata": {},
     "output_type": "display_data"
    }
   ],
   "source": [
    "# add colomn names\n",
    "names(chest_pain_data) <- c(\"age\", \"sex\",\n",
    "                         \"chest_pain_type\",\n",
    "                         \"trest_bps\",\n",
    "                          \"cholesterol\",\n",
    "                          \"fasting_blood_sugar\",\n",
    "                          \"resting_ecg\",\n",
    "                          \"max_heart_rate\",\n",
    "                          \"exercise_induced_angina\",\n",
    "                          \"oldpeak\",\n",
    "                          \"slope\",\n",
    "                          \"no_vessels_colored\",\n",
    "                          \"thal\",\n",
    "                          \"healthy\")\n",
    "\n",
    "# select columns we're using and convert chest_pain_type to factor\n",
    "chest_pain_data <- select(chest_pain_data, age, chest_pain_type, trest_bps, cholesterol, max_heart_rate) %>%\n",
    "    mutate(chest_pain_type = as_factor(chest_pain_type))\n",
    "\n",
    "slice(chest_pain_data,1:6)"
   ]
  },
  {
   "cell_type": "code",
   "execution_count": 93,
   "metadata": {},
   "outputs": [
    {
     "data": {
      "text/html": [
       "<table>\n",
       "<caption>A tibble: 6 × 5</caption>\n",
       "<thead>\n",
       "\t<tr><th scope=col>age</th><th scope=col>chest_pain_type</th><th scope=col>trest_bps</th><th scope=col>cholesterol</th><th scope=col>max_heart_rate</th></tr>\n",
       "\t<tr><th scope=col>&lt;dbl&gt;</th><th scope=col>&lt;fct&gt;</th><th scope=col>&lt;dbl&gt;</th><th scope=col>&lt;dbl&gt;</th><th scope=col>&lt;dbl&gt;</th></tr>\n",
       "</thead>\n",
       "<tbody>\n",
       "\t<tr><td>67</td><td>4</td><td>160</td><td>286</td><td>108</td></tr>\n",
       "\t<tr><td>37</td><td>3</td><td>130</td><td>250</td><td>187</td></tr>\n",
       "\t<tr><td>41</td><td>2</td><td>130</td><td>204</td><td>172</td></tr>\n",
       "\t<tr><td>56</td><td>2</td><td>120</td><td>236</td><td>178</td></tr>\n",
       "\t<tr><td>62</td><td>4</td><td>140</td><td>268</td><td>160</td></tr>\n",
       "\t<tr><td>57</td><td>4</td><td>120</td><td>354</td><td>163</td></tr>\n",
       "</tbody>\n",
       "</table>\n"
      ],
      "text/latex": [
       "A tibble: 6 × 5\n",
       "\\begin{tabular}{lllll}\n",
       " age & chest\\_pain\\_type & trest\\_bps & cholesterol & max\\_heart\\_rate\\\\\n",
       " <dbl> & <fct> & <dbl> & <dbl> & <dbl>\\\\\n",
       "\\hline\n",
       "\t 67 & 4 & 160 & 286 & 108\\\\\n",
       "\t 37 & 3 & 130 & 250 & 187\\\\\n",
       "\t 41 & 2 & 130 & 204 & 172\\\\\n",
       "\t 56 & 2 & 120 & 236 & 178\\\\\n",
       "\t 62 & 4 & 140 & 268 & 160\\\\\n",
       "\t 57 & 4 & 120 & 354 & 163\\\\\n",
       "\\end{tabular}\n"
      ],
      "text/markdown": [
       "\n",
       "A tibble: 6 × 5\n",
       "\n",
       "| age &lt;dbl&gt; | chest_pain_type &lt;fct&gt; | trest_bps &lt;dbl&gt; | cholesterol &lt;dbl&gt; | max_heart_rate &lt;dbl&gt; |\n",
       "|---|---|---|---|---|\n",
       "| 67 | 4 | 160 | 286 | 108 |\n",
       "| 37 | 3 | 130 | 250 | 187 |\n",
       "| 41 | 2 | 130 | 204 | 172 |\n",
       "| 56 | 2 | 120 | 236 | 178 |\n",
       "| 62 | 4 | 140 | 268 | 160 |\n",
       "| 57 | 4 | 120 | 354 | 163 |\n",
       "\n"
      ],
      "text/plain": [
       "  age chest_pain_type trest_bps cholesterol max_heart_rate\n",
       "1 67  4               160       286         108           \n",
       "2 37  3               130       250         187           \n",
       "3 41  2               130       204         172           \n",
       "4 56  2               120       236         178           \n",
       "5 62  4               140       268         160           \n",
       "6 57  4               120       354         163           "
      ]
     },
     "metadata": {},
     "output_type": "display_data"
    },
    {
     "data": {
      "text/html": [
       "<table>\n",
       "<caption>A tibble: 6 × 5</caption>\n",
       "<thead>\n",
       "\t<tr><th scope=col>age</th><th scope=col>chest_pain_type</th><th scope=col>trest_bps</th><th scope=col>cholesterol</th><th scope=col>max_heart_rate</th></tr>\n",
       "\t<tr><th scope=col>&lt;dbl&gt;</th><th scope=col>&lt;fct&gt;</th><th scope=col>&lt;dbl&gt;</th><th scope=col>&lt;dbl&gt;</th><th scope=col>&lt;dbl&gt;</th></tr>\n",
       "</thead>\n",
       "<tbody>\n",
       "\t<tr><td>63</td><td>1</td><td>145</td><td>233</td><td>150</td></tr>\n",
       "\t<tr><td>67</td><td>4</td><td>120</td><td>229</td><td>129</td></tr>\n",
       "\t<tr><td>53</td><td>4</td><td>140</td><td>203</td><td>155</td></tr>\n",
       "\t<tr><td>52</td><td>3</td><td>172</td><td>199</td><td>162</td></tr>\n",
       "\t<tr><td>49</td><td>2</td><td>130</td><td>266</td><td>171</td></tr>\n",
       "\t<tr><td>58</td><td>2</td><td>120</td><td>284</td><td>160</td></tr>\n",
       "</tbody>\n",
       "</table>\n"
      ],
      "text/latex": [
       "A tibble: 6 × 5\n",
       "\\begin{tabular}{lllll}\n",
       " age & chest\\_pain\\_type & trest\\_bps & cholesterol & max\\_heart\\_rate\\\\\n",
       " <dbl> & <fct> & <dbl> & <dbl> & <dbl>\\\\\n",
       "\\hline\n",
       "\t 63 & 1 & 145 & 233 & 150\\\\\n",
       "\t 67 & 4 & 120 & 229 & 129\\\\\n",
       "\t 53 & 4 & 140 & 203 & 155\\\\\n",
       "\t 52 & 3 & 172 & 199 & 162\\\\\n",
       "\t 49 & 2 & 130 & 266 & 171\\\\\n",
       "\t 58 & 2 & 120 & 284 & 160\\\\\n",
       "\\end{tabular}\n"
      ],
      "text/markdown": [
       "\n",
       "A tibble: 6 × 5\n",
       "\n",
       "| age &lt;dbl&gt; | chest_pain_type &lt;fct&gt; | trest_bps &lt;dbl&gt; | cholesterol &lt;dbl&gt; | max_heart_rate &lt;dbl&gt; |\n",
       "|---|---|---|---|---|\n",
       "| 63 | 1 | 145 | 233 | 150 |\n",
       "| 67 | 4 | 120 | 229 | 129 |\n",
       "| 53 | 4 | 140 | 203 | 155 |\n",
       "| 52 | 3 | 172 | 199 | 162 |\n",
       "| 49 | 2 | 130 | 266 | 171 |\n",
       "| 58 | 2 | 120 | 284 | 160 |\n",
       "\n"
      ],
      "text/plain": [
       "  age chest_pain_type trest_bps cholesterol max_heart_rate\n",
       "1 63  1               145       233         150           \n",
       "2 67  4               120       229         129           \n",
       "3 53  4               140       203         155           \n",
       "4 52  3               172       199         162           \n",
       "5 49  2               130       266         171           \n",
       "6 58  2               120       284         160           "
      ]
     },
     "metadata": {},
     "output_type": "display_data"
    }
   ],
   "source": [
    "# split our dataset into a training dataset and a testing dataset\n",
    "# Randomly take 75% of the data in the training set. \n",
    "# This will be proportional to the different number of fruit names in the dataset.\n",
    "\n",
    "chest_pain_data_split <- initial_split(chest_pain_data, prop = 0.75, strata =chest_pain_type )  \n",
    "chest_pain_data_train <- training(chest_pain_data_split)   \n",
    "chest_pain_data_test <- testing(chest_pain_data_split)\n",
    "\n",
    "slice(chest_pain_data_train,1:6) \n",
    "slice(chest_pain_data_test,1:6) "
   ]
  },
  {
   "cell_type": "code",
   "execution_count": 94,
   "metadata": {},
   "outputs": [],
   "source": [
    "# cross validation\n",
    "vfold <- vfold_cv(chest_pain_data_train, v=5, strata = chest_pain_type)"
   ]
  },
  {
   "cell_type": "code",
   "execution_count": 95,
   "metadata": {},
   "outputs": [
    {
     "data": {
      "text/html": [
       "<table>\n",
       "<caption>A tibble: 2 × 3</caption>\n",
       "<thead>\n",
       "\t<tr><th scope=col>.metric</th><th scope=col>.estimator</th><th scope=col>.estimate</th></tr>\n",
       "\t<tr><th scope=col>&lt;chr&gt;</th><th scope=col>&lt;chr&gt;</th><th scope=col>&lt;dbl&gt;</th></tr>\n",
       "</thead>\n",
       "<tbody>\n",
       "\t<tr><td>accuracy</td><td>multiclass</td><td>0.46666667</td></tr>\n",
       "\t<tr><td>kap     </td><td>multiclass</td><td>0.07149489</td></tr>\n",
       "</tbody>\n",
       "</table>\n"
      ],
      "text/latex": [
       "A tibble: 2 × 3\n",
       "\\begin{tabular}{lll}\n",
       " .metric & .estimator & .estimate\\\\\n",
       " <chr> & <chr> & <dbl>\\\\\n",
       "\\hline\n",
       "\t accuracy & multiclass & 0.46666667\\\\\n",
       "\t kap      & multiclass & 0.07149489\\\\\n",
       "\\end{tabular}\n"
      ],
      "text/markdown": [
       "\n",
       "A tibble: 2 × 3\n",
       "\n",
       "| .metric &lt;chr&gt; | .estimator &lt;chr&gt; | .estimate &lt;dbl&gt; |\n",
       "|---|---|---|\n",
       "| accuracy | multiclass | 0.46666667 |\n",
       "| kap      | multiclass | 0.07149489 |\n",
       "\n"
      ],
      "text/plain": [
       "  .metric  .estimator .estimate \n",
       "1 accuracy multiclass 0.46666667\n",
       "2 kap      multiclass 0.07149489"
      ]
     },
     "metadata": {},
     "output_type": "display_data"
    },
    {
     "data": {
      "text/plain": [
       "          Truth\n",
       "Prediction  1  2  3  4\n",
       "         1  0  0  0  0\n",
       "         2  0  0  1  2\n",
       "         3  1  5  7  6\n",
       "         4  4  5 16 28"
      ]
     },
     "metadata": {},
     "output_type": "display_data"
    },
    {
     "data": {
      "image/png": "[encoded data removed]",
      "text/plain": [
       "plot without title"
      ]
     },
     "metadata": {
      "image/png": {
       "height": 420,
       "width": 420
      }
     },
     "output_type": "display_data"
    }
   ],
   "source": [
    "# recipe and standardization\n",
    "cp_recipe <- recipe(chest_pain_type~age+trest_bps+cholesterol+max_heart_rate, data = chest_pain_data_train) %>%\n",
    "  #  step_upsample(Class, over_ratio = 1, skip = FALSE) %>%         # fix imbalances\n",
    "    step_scale(all_predictors()) %>%\n",
    "    step_center(all_predictors())\n",
    "\n",
    "# model\n",
    "knn_tune <- nearest_neighbor(weight_func = \"rectangular\", neighbors = tune()) %>%\n",
    "    set_engine(\"kknn\") %>%\n",
    "    set_mode(\"classification\")\n",
    "\n",
    "# workflow\n",
    "knn_result <- workflow() %>%\n",
    "    add_recipe(cp_recipe) %>%\n",
    "    add_model(knn_tune) %>%\n",
    "    tune_grid(resamples = vfold, grid = 50) %>%\n",
    "    collect_metrics()\n",
    "\n",
    "# accuracy\n",
    "accuracies <- knn_result %>%\n",
    "    filter(.metric == \"accuracy\")\n",
    "\n",
    "# accuracy plot\n",
    "cross_val_plot <- accuracies %>%\n",
    "    ggplot(aes(x=neighbors, y=mean)) +\n",
    "    geom_point()+\n",
    "    geom_line() +\n",
    "    labs(x=\"Neighbors\", y=\"Accuracy Estimate\")\n",
    "cross_val_plot\n",
    "\n",
    "# build model with k=12\n",
    "knn_spec <- nearest_neighbor(weight_func = \"rectangular\", neighbors = 12) %>%\n",
    "    set_engine(\"kknn\") %>%\n",
    "    set_mode(\"classification\")\n",
    "\n",
    "# new workflow\n",
    "fit <- workflow() %>%\n",
    "    add_recipe(cp_recipe) %>%\n",
    "    add_model(knn_spec) %>%\n",
    "    fit(data=chest_pain_data_train)\n",
    "\n",
    "# predict\n",
    "cp_predictions <- predict(fit, chest_pain_data_test) %>%\n",
    "    bind_cols(chest_pain_data_test)\n",
    "\n",
    "# compute accuracy\n",
    "metrics <- cp_predictions %>%\n",
    "    metrics(truth = chest_pain_type, estimate = .pred_class)\n",
    "metrics\n",
    "\n",
    "# confusion matrix\n",
    "confusion <- cp_predictions %>%\n",
    "    conf_mat(truth = chest_pain_type, estimate = .pred_class)\n",
    "confusion"
   ]
  },
  {
   "cell_type": "code",
   "execution_count": null,
   "metadata": {},
   "outputs": [],
   "source": []
  },
  {
   "cell_type": "code",
   "execution_count": null,
   "metadata": {},
   "outputs": [],
   "source": []
  }
 ],
 "metadata": {
  "kernelspec": {
   "display_name": "R",
   "language": "R",
   "name": "ir"
  },
  "language_info": {
   "codemirror_mode": "r",
   "file_extension": ".r",
   "mimetype": "text/x-r-source",
   "name": "R",
   "pygments_lexer": "r",
   "version": "4.0.0"
  }
 },
 "nbformat": 4,
 "nbformat_minor": 4
}
